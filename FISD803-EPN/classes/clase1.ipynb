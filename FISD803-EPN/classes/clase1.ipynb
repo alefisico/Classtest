{
 "cells": [
  {
   "cell_type": "markdown",
   "id": "ab27023b",
   "metadata": {},
   "source": [
    "# Métodos de Runge Kutta"
   ]
  },
  {
   "cell_type": "markdown",
   "id": "66250e8e",
   "metadata": {},
   "source": [
    "Instalemos unos paquetes que necesitamos para visualizaciones:"
   ]
  },
  {
   "cell_type": "code",
   "execution_count": 1,
   "id": "ae22483d",
   "metadata": {},
   "outputs": [
    {
     "name": "stdout",
     "output_type": "stream",
     "text": [
      "Requirement already satisfied: vpython in /home/algomez/miniconda3/lib/python3.10/site-packages (7.6.4)\n",
      "Requirement already satisfied: jupyter-server-proxy in /home/algomez/miniconda3/lib/python3.10/site-packages (from vpython) (3.2.2)\n",
      "Requirement already satisfied: autobahn<27,>=22.6.1 in /home/algomez/miniconda3/lib/python3.10/site-packages (from vpython) (23.1.2)\n",
      "Requirement already satisfied: jupyter in /home/algomez/miniconda3/lib/python3.10/site-packages (from vpython) (1.0.0)\n",
      "Requirement already satisfied: ipykernel in /home/algomez/miniconda3/lib/python3.10/site-packages (from vpython) (6.19.4)\n",
      "Requirement already satisfied: numpy in /home/algomez/miniconda3/lib/python3.10/site-packages (from vpython) (1.23.5)\n",
      "Requirement already satisfied: hyperlink>=21.0.0 in /home/algomez/miniconda3/lib/python3.10/site-packages (from autobahn<27,>=22.6.1->vpython) (21.0.0)\n",
      "Requirement already satisfied: cryptography>=3.4.6 in /home/algomez/miniconda3/lib/python3.10/site-packages (from autobahn<27,>=22.6.1->vpython) (38.0.1)\n",
      "Requirement already satisfied: setuptools in /home/algomez/miniconda3/lib/python3.10/site-packages (from autobahn<27,>=22.6.1->vpython) (65.5.0)\n",
      "Requirement already satisfied: txaio>=21.2.1 in /home/algomez/miniconda3/lib/python3.10/site-packages (from autobahn<27,>=22.6.1->vpython) (23.1.1)\n",
      "Requirement already satisfied: pyzmq>=17 in /home/algomez/miniconda3/lib/python3.10/site-packages (from ipykernel->vpython) (24.0.1)\n",
      "Requirement already satisfied: packaging in /home/algomez/miniconda3/lib/python3.10/site-packages (from ipykernel->vpython) (22.0)\n",
      "Requirement already satisfied: matplotlib-inline>=0.1 in /home/algomez/miniconda3/lib/python3.10/site-packages (from ipykernel->vpython) (0.1.6)\n",
      "Requirement already satisfied: jupyter-client>=6.1.12 in /home/algomez/miniconda3/lib/python3.10/site-packages (from ipykernel->vpython) (7.4.8)\n",
      "Requirement already satisfied: psutil in /home/algomez/miniconda3/lib/python3.10/site-packages (from ipykernel->vpython) (5.9.4)\n",
      "Requirement already satisfied: comm>=0.1.1 in /home/algomez/miniconda3/lib/python3.10/site-packages (from ipykernel->vpython) (0.1.2)\n",
      "Requirement already satisfied: nest-asyncio in /home/algomez/miniconda3/lib/python3.10/site-packages (from ipykernel->vpython) (1.5.6)\n",
      "Requirement already satisfied: traitlets>=5.4.0 in /home/algomez/miniconda3/lib/python3.10/site-packages (from ipykernel->vpython) (5.8.0)\n",
      "Requirement already satisfied: tornado>=6.1 in /home/algomez/miniconda3/lib/python3.10/site-packages (from ipykernel->vpython) (6.2)\n",
      "Requirement already satisfied: debugpy>=1.0 in /home/algomez/miniconda3/lib/python3.10/site-packages (from ipykernel->vpython) (1.6.4)\n",
      "Requirement already satisfied: ipython>=7.23.1 in /home/algomez/miniconda3/lib/python3.10/site-packages (from ipykernel->vpython) (8.7.0)\n",
      "Requirement already satisfied: jupyter-console in /home/algomez/miniconda3/lib/python3.10/site-packages (from jupyter->vpython) (6.6.3)\n",
      "Requirement already satisfied: nbconvert in /home/algomez/miniconda3/lib/python3.10/site-packages (from jupyter->vpython) (6.5.4)\n",
      "Requirement already satisfied: notebook in /home/algomez/miniconda3/lib/python3.10/site-packages (from jupyter->vpython) (6.5.2)\n",
      "Requirement already satisfied: ipywidgets in /home/algomez/miniconda3/lib/python3.10/site-packages (from jupyter->vpython) (7.7.2)\n",
      "Requirement already satisfied: qtconsole in /home/algomez/miniconda3/lib/python3.10/site-packages (from jupyter->vpython) (5.4.2)\n",
      "Requirement already satisfied: aiohttp in /home/algomez/miniconda3/lib/python3.10/site-packages (from jupyter-server-proxy->vpython) (3.8.4)\n",
      "Requirement already satisfied: jupyter-server>=1.0 in /home/algomez/miniconda3/lib/python3.10/site-packages (from jupyter-server-proxy->vpython) (2.0.6)\n",
      "Requirement already satisfied: simpervisor>=0.4 in /home/algomez/miniconda3/lib/python3.10/site-packages (from jupyter-server-proxy->vpython) (0.4)\n",
      "Requirement already satisfied: cffi>=1.12 in /home/algomez/miniconda3/lib/python3.10/site-packages (from cryptography>=3.4.6->autobahn<27,>=22.6.1->vpython) (1.15.1)\n",
      "Requirement already satisfied: idna>=2.5 in /home/algomez/miniconda3/lib/python3.10/site-packages (from hyperlink>=21.0.0->autobahn<27,>=22.6.1->vpython) (3.4)\n",
      "Requirement already satisfied: decorator in /home/algomez/miniconda3/lib/python3.10/site-packages (from ipython>=7.23.1->ipykernel->vpython) (5.1.1)\n",
      "Requirement already satisfied: jedi>=0.16 in /home/algomez/miniconda3/lib/python3.10/site-packages (from ipython>=7.23.1->ipykernel->vpython) (0.18.2)\n",
      "Requirement already satisfied: pickleshare in /home/algomez/miniconda3/lib/python3.10/site-packages (from ipython>=7.23.1->ipykernel->vpython) (0.7.5)\n",
      "Requirement already satisfied: backcall in /home/algomez/miniconda3/lib/python3.10/site-packages (from ipython>=7.23.1->ipykernel->vpython) (0.2.0)\n",
      "Requirement already satisfied: prompt-toolkit<3.1.0,>=3.0.11 in /home/algomez/miniconda3/lib/python3.10/site-packages (from ipython>=7.23.1->ipykernel->vpython) (3.0.36)\n",
      "Requirement already satisfied: pygments>=2.4.0 in /home/algomez/miniconda3/lib/python3.10/site-packages (from ipython>=7.23.1->ipykernel->vpython) (2.13.0)\n",
      "Requirement already satisfied: stack-data in /home/algomez/miniconda3/lib/python3.10/site-packages (from ipython>=7.23.1->ipykernel->vpython) (0.6.2)\n",
      "Requirement already satisfied: pexpect>4.3 in /home/algomez/miniconda3/lib/python3.10/site-packages (from ipython>=7.23.1->ipykernel->vpython) (4.8.0)\n",
      "Requirement already satisfied: entrypoints in /home/algomez/miniconda3/lib/python3.10/site-packages (from jupyter-client>=6.1.12->ipykernel->vpython) (0.4)\n",
      "Requirement already satisfied: python-dateutil>=2.8.2 in /home/algomez/miniconda3/lib/python3.10/site-packages (from jupyter-client>=6.1.12->ipykernel->vpython) (2.8.2)\n",
      "Requirement already satisfied: jupyter-core>=4.9.2 in /home/algomez/miniconda3/lib/python3.10/site-packages (from jupyter-client>=6.1.12->ipykernel->vpython) (5.1.1)\n",
      "Requirement already satisfied: argon2-cffi in /home/algomez/miniconda3/lib/python3.10/site-packages (from jupyter-server>=1.0->jupyter-server-proxy->vpython) (21.3.0)\n",
      "Requirement already satisfied: jupyter-events>=0.4.0 in /home/algomez/miniconda3/lib/python3.10/site-packages (from jupyter-server>=1.0->jupyter-server-proxy->vpython) (0.4.0)\n",
      "Requirement already satisfied: nbformat>=5.3.0 in /home/algomez/miniconda3/lib/python3.10/site-packages (from jupyter-server>=1.0->jupyter-server-proxy->vpython) (5.7.1)\n",
      "Requirement already satisfied: anyio<4,>=3.1.0 in /home/algomez/miniconda3/lib/python3.10/site-packages (from jupyter-server>=1.0->jupyter-server-proxy->vpython) (3.6.2)\n",
      "Requirement already satisfied: terminado>=0.8.3 in /home/algomez/miniconda3/lib/python3.10/site-packages (from jupyter-server>=1.0->jupyter-server-proxy->vpython) (0.17.1)\n",
      "Requirement already satisfied: jupyter-server-terminals in /home/algomez/miniconda3/lib/python3.10/site-packages (from jupyter-server>=1.0->jupyter-server-proxy->vpython) (0.4.3)\n",
      "Requirement already satisfied: websocket-client in /home/algomez/miniconda3/lib/python3.10/site-packages (from jupyter-server>=1.0->jupyter-server-proxy->vpython) (1.4.2)\n",
      "Requirement already satisfied: send2trash in /home/algomez/miniconda3/lib/python3.10/site-packages (from jupyter-server>=1.0->jupyter-server-proxy->vpython) (1.8.0)\n",
      "Requirement already satisfied: prometheus-client in /home/algomez/miniconda3/lib/python3.10/site-packages (from jupyter-server>=1.0->jupyter-server-proxy->vpython) (0.15.0)\n",
      "Requirement already satisfied: jinja2 in /home/algomez/miniconda3/lib/python3.10/site-packages (from jupyter-server>=1.0->jupyter-server-proxy->vpython) (3.1.2)\n",
      "Requirement already satisfied: defusedxml in /home/algomez/miniconda3/lib/python3.10/site-packages (from nbconvert->jupyter->vpython) (0.7.1)\n",
      "Requirement already satisfied: MarkupSafe>=2.0 in /home/algomez/miniconda3/lib/python3.10/site-packages (from nbconvert->jupyter->vpython) (2.1.1)\n",
      "Requirement already satisfied: jupyterlab-pygments in /home/algomez/miniconda3/lib/python3.10/site-packages (from nbconvert->jupyter->vpython) (0.2.2)\n",
      "Requirement already satisfied: nbclient>=0.5.0 in /home/algomez/miniconda3/lib/python3.10/site-packages (from nbconvert->jupyter->vpython) (0.5.13)\n",
      "Requirement already satisfied: mistune<2,>=0.8.1 in /home/algomez/miniconda3/lib/python3.10/site-packages (from nbconvert->jupyter->vpython) (0.8.4)\n",
      "Requirement already satisfied: pandocfilters>=1.4.1 in /home/algomez/miniconda3/lib/python3.10/site-packages (from nbconvert->jupyter->vpython) (1.5.0)\n",
      "Requirement already satisfied: lxml in /home/algomez/miniconda3/lib/python3.10/site-packages (from nbconvert->jupyter->vpython) (4.9.2)\n",
      "Requirement already satisfied: bleach in /home/algomez/miniconda3/lib/python3.10/site-packages (from nbconvert->jupyter->vpython) (5.0.1)\n",
      "Requirement already satisfied: tinycss2 in /home/algomez/miniconda3/lib/python3.10/site-packages (from nbconvert->jupyter->vpython) (1.2.1)\n",
      "Requirement already satisfied: beautifulsoup4 in /home/algomez/miniconda3/lib/python3.10/site-packages (from nbconvert->jupyter->vpython) (4.11.1)\n",
      "Requirement already satisfied: multidict<7.0,>=4.5 in /home/algomez/miniconda3/lib/python3.10/site-packages (from aiohttp->jupyter-server-proxy->vpython) (6.0.4)\n",
      "Requirement already satisfied: aiosignal>=1.1.2 in /home/algomez/miniconda3/lib/python3.10/site-packages (from aiohttp->jupyter-server-proxy->vpython) (1.3.1)\n",
      "Requirement already satisfied: async-timeout<5.0,>=4.0.0a3 in /home/algomez/miniconda3/lib/python3.10/site-packages (from aiohttp->jupyter-server-proxy->vpython) (4.0.2)\n",
      "Requirement already satisfied: attrs>=17.3.0 in /home/algomez/miniconda3/lib/python3.10/site-packages (from aiohttp->jupyter-server-proxy->vpython) (21.4.0)\n",
      "Requirement already satisfied: frozenlist>=1.1.1 in /home/algomez/miniconda3/lib/python3.10/site-packages (from aiohttp->jupyter-server-proxy->vpython) (1.3.3)\n",
      "Requirement already satisfied: charset-normalizer<4.0,>=2.0 in /home/algomez/miniconda3/lib/python3.10/site-packages (from aiohttp->jupyter-server-proxy->vpython) (2.0.4)\n",
      "Requirement already satisfied: yarl<2.0,>=1.0 in /home/algomez/miniconda3/lib/python3.10/site-packages (from aiohttp->jupyter-server-proxy->vpython) (1.8.2)\n",
      "Requirement already satisfied: widgetsnbextension~=3.6.0 in /home/algomez/miniconda3/lib/python3.10/site-packages (from ipywidgets->jupyter->vpython) (3.6.1)\n",
      "Requirement already satisfied: ipython-genutils~=0.2.0 in /home/algomez/miniconda3/lib/python3.10/site-packages (from ipywidgets->jupyter->vpython) (0.2.0)\n",
      "Requirement already satisfied: jupyterlab-widgets<3,>=1.0.0 in /home/algomez/miniconda3/lib/python3.10/site-packages (from ipywidgets->jupyter->vpython) (1.1.1)\n"
     ]
    },
    {
     "name": "stdout",
     "output_type": "stream",
     "text": [
      "Requirement already satisfied: nbclassic>=0.4.7 in /home/algomez/miniconda3/lib/python3.10/site-packages (from notebook->jupyter->vpython) (0.4.8)\n",
      "Requirement already satisfied: qtpy>=2.0.1 in /home/algomez/miniconda3/lib/python3.10/site-packages (from qtconsole->jupyter->vpython) (2.3.1)\n",
      "Requirement already satisfied: sniffio>=1.1 in /home/algomez/miniconda3/lib/python3.10/site-packages (from anyio<4,>=3.1.0->jupyter-server>=1.0->jupyter-server-proxy->vpython) (1.3.0)\n",
      "Requirement already satisfied: pycparser in /home/algomez/miniconda3/lib/python3.10/site-packages (from cffi>=1.12->cryptography>=3.4.6->autobahn<27,>=22.6.1->vpython) (2.21)\n",
      "Requirement already satisfied: parso<0.9.0,>=0.8.0 in /home/algomez/miniconda3/lib/python3.10/site-packages (from jedi>=0.16->ipython>=7.23.1->ipykernel->vpython) (0.8.3)\n",
      "Requirement already satisfied: platformdirs>=2.5 in /home/algomez/miniconda3/lib/python3.10/site-packages (from jupyter-core>=4.9.2->jupyter-client>=6.1.12->ipykernel->vpython) (2.6.2)\n",
      "Requirement already satisfied: jsonschema in /home/algomez/miniconda3/lib/python3.10/site-packages (from jupyter-events>=0.4.0->jupyter-server>=1.0->jupyter-server-proxy->vpython) (3.2.0)\n",
      "Requirement already satisfied: python-json-logger in /home/algomez/miniconda3/lib/python3.10/site-packages (from jupyter-events>=0.4.0->jupyter-server>=1.0->jupyter-server-proxy->vpython) (2.0.4)\n",
      "Requirement already satisfied: pyyaml in /home/algomez/miniconda3/lib/python3.10/site-packages (from jupyter-events>=0.4.0->jupyter-server>=1.0->jupyter-server-proxy->vpython) (6.0)\n",
      "Requirement already satisfied: notebook-shim>=0.1.0 in /home/algomez/miniconda3/lib/python3.10/site-packages (from nbclassic>=0.4.7->notebook->jupyter->vpython) (0.2.2)\n",
      "Requirement already satisfied: fastjsonschema in /home/algomez/miniconda3/lib/python3.10/site-packages (from nbformat>=5.3.0->jupyter-server>=1.0->jupyter-server-proxy->vpython) (2.16.2)\n",
      "Requirement already satisfied: ptyprocess>=0.5 in /home/algomez/miniconda3/lib/python3.10/site-packages (from pexpect>4.3->ipython>=7.23.1->ipykernel->vpython) (0.7.0)\n",
      "Requirement already satisfied: wcwidth in /home/algomez/miniconda3/lib/python3.10/site-packages (from prompt-toolkit<3.1.0,>=3.0.11->ipython>=7.23.1->ipykernel->vpython) (0.2.5)\n",
      "Requirement already satisfied: six>=1.5 in /home/algomez/miniconda3/lib/python3.10/site-packages (from python-dateutil>=2.8.2->jupyter-client>=6.1.12->ipykernel->vpython) (1.16.0)\n",
      "Requirement already satisfied: argon2-cffi-bindings in /home/algomez/miniconda3/lib/python3.10/site-packages (from argon2-cffi->jupyter-server>=1.0->jupyter-server-proxy->vpython) (21.2.0)\n",
      "Requirement already satisfied: soupsieve>1.2 in /home/algomez/miniconda3/lib/python3.10/site-packages (from beautifulsoup4->nbconvert->jupyter->vpython) (2.3.2.post1)\n",
      "Requirement already satisfied: webencodings in /home/algomez/miniconda3/lib/python3.10/site-packages (from bleach->nbconvert->jupyter->vpython) (0.5.1)\n",
      "Requirement already satisfied: asttokens>=2.1.0 in /home/algomez/miniconda3/lib/python3.10/site-packages (from stack-data->ipython>=7.23.1->ipykernel->vpython) (2.2.1)\n",
      "Requirement already satisfied: executing>=1.2.0 in /home/algomez/miniconda3/lib/python3.10/site-packages (from stack-data->ipython>=7.23.1->ipykernel->vpython) (1.2.0)\n",
      "Requirement already satisfied: pure-eval in /home/algomez/miniconda3/lib/python3.10/site-packages (from stack-data->ipython>=7.23.1->ipykernel->vpython) (0.2.2)\n",
      "Requirement already satisfied: pyrsistent>=0.14.0 in /home/algomez/miniconda3/lib/python3.10/site-packages (from jsonschema->jupyter-events>=0.4.0->jupyter-server>=1.0->jupyter-server-proxy->vpython) (0.19.3)\n"
     ]
    }
   ],
   "source": [
    "! pip install vpython"
   ]
  },
  {
   "cell_type": "markdown",
   "id": "35d7b67e",
   "metadata": {},
   "source": [
    "## Método de Euler"
   ]
  },
  {
   "cell_type": "code",
   "execution_count": 6,
   "id": "4908f9bf",
   "metadata": {},
   "outputs": [
    {
     "name": "stdout",
     "output_type": "stream",
     "text": [
      "\n",
      "-----------SOLUTION-----------\n",
      "------------------------------\n",
      "x0\ty0\tslope\tyn\n",
      "------------------------------\n",
      "0.0000\t1.0000\t1.0000\t1.0250\n",
      "------------------------------\n",
      "\n",
      "At x=0.0250, y=1.0250\n"
     ]
    }
   ],
   "source": [
    "### Based on https://www.codesansar.com/numerical-methods/eulers-method-python-program.htm\n",
    "\n",
    "# function to be solved\n",
    "def f(x,y):\n",
    "    return x+y\n",
    "\n",
    "# or\n",
    "# f = lambda x: x+y\n",
    "\n",
    "# Euler method\n",
    "def euler(x0,y0,xn,n):\n",
    "    \n",
    "    # Calculating step size\n",
    "    h = (xn-x0)/n\n",
    "    \n",
    "    print('\\n-----------SOLUTION-----------')\n",
    "    print('------------------------------')    \n",
    "    print('x0\\ty0\\tslope\\tyn')\n",
    "    print('------------------------------')\n",
    "    for i in range(n):\n",
    "        slope = f(x0, y0)\n",
    "        yn = y0 + h * slope\n",
    "        print('%.4f\\t%.4f\\t%0.4f\\t%.4f'% (x0,y0,slope,yn) )\n",
    "        print('------------------------------')\n",
    "        y0 = yn\n",
    "        x0 = x0+h\n",
    "    \n",
    "    print('\\nAt x=%.4f, y=%.4f' %(xn,yn))\n",
    "\n",
    "# Inputs\n",
    "x0 = 0\n",
    "y0 = 1\n",
    "xn = 0.025\n",
    "\n",
    "step = 1\n",
    "\n",
    "# Euler method call\n",
    "euler(x0,y0,xn,step)\n"
   ]
  },
  {
   "cell_type": "markdown",
   "id": "561f6fe0",
   "metadata": {},
   "source": [
    "# Método de Runge Kutta"
   ]
  },
  {
   "cell_type": "code",
   "execution_count": 8,
   "id": "7ad54ef5",
   "metadata": {},
   "outputs": [
    {
     "data": {
      "text/html": [
       "<div id=\"glowscript\" class=\"glowscript\"></div>"
      ],
      "text/plain": [
       "<IPython.core.display.HTML object>"
      ]
     },
     "metadata": {},
     "output_type": "display_data"
    },
    {
     "data": {
      "application/javascript": [
       "if (typeof Jupyter !== \"undefined\") { window.__context = { glowscript_container: $(\"#glowscript\").removeAttr(\"id\")};}else{ element.textContent = ' ';}"
      ],
      "text/plain": [
       "<IPython.core.display.Javascript object>"
      ]
     },
     "metadata": {},
     "output_type": "display_data"
    }
   ],
   "source": [
    "## based on https://www.glowscript.org/#/user/wlane/folder/Runge-Kutta/program/Basic-Runge-Kutta-unsolvable/edit\n",
    "\n",
    "from vpython import *\n",
    "\n",
    "scene = canvas()\n",
    "\n",
    "graph(fast=False)\n",
    "fun_graph = gcurve(color=color.red, label=\"Runge-Kutta solution\")\n",
    "ecm_graph = gdots(color=color.green, label=\"Euler-Cromer solution\")\n",
    "\n",
    "def fun(t,x):\n",
    "    # This is the right-hand side of the first-order ordinary differential \n",
    "    # equation dx/dt = fun.\n",
    "    #fun = exp(x)-x*exp(t)\n",
    "    #return fun\n",
    "    return (x + t)\n",
    "    \n",
    "# Set initial conditions.\n",
    "t = 0\n",
    "x = 1\n",
    "x_ecm = 0.025\n",
    "\n",
    "# Set step size.\n",
    "dt = 0.025\n",
    "\n",
    "while (t < 5):\n",
    "    rate(100)\n",
    "    # Calculate partial steps.\n",
    "    k1 = fun(t,      x)\n",
    "    k2 = fun(t+dt/2, x+dt*k1/2)\n",
    "    k3 = fun(t+dt/2, x+dt*k2/2)\n",
    "    k4 = fun(t+dt,   x+dt*k3)\n",
    "    # Combine partial steps.\n",
    "    x = x + dt/6*(k1+2*k2+2*k3+k4)\n",
    "    x_ecm = x_ecm + fun(t,x_ecm)*dt\n",
    "    t = t + dt\n",
    "    \n",
    "    fun_graph.plot(pos=(t,x))\n",
    "    ecm_graph.plot(pos=(t,x_ecm))"
   ]
  },
  {
   "cell_type": "code",
   "execution_count": null,
   "id": "414b640a",
   "metadata": {},
   "outputs": [],
   "source": []
  }
 ],
 "metadata": {
  "kernelspec": {
   "display_name": "Python 3 (ipykernel)",
   "language": "python",
   "name": "python3"
  },
  "language_info": {
   "codemirror_mode": {
    "name": "ipython",
    "version": 3
   },
   "file_extension": ".py",
   "mimetype": "text/x-python",
   "name": "python",
   "nbconvert_exporter": "python",
   "pygments_lexer": "ipython3",
   "version": "3.10.8"
  }
 },
 "nbformat": 4,
 "nbformat_minor": 5
}
