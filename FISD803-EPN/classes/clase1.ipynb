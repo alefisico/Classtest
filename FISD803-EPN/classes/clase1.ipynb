{
 "cells": [
  {
   "cell_type": "markdown",
   "id": "e0efb061",
   "metadata": {},
   "source": [
    "# Métodos de Runge Kutta"
   ]
  },
  {
   "cell_type": "markdown",
   "id": "7c973ded",
   "metadata": {},
   "source": [
    "## Método de Euler"
   ]
  },
  {
   "cell_type": "code",
   "execution_count": 1,
   "id": "625b371a",
   "metadata": {},
   "outputs": [
    {
     "name": "stdout",
     "output_type": "stream",
     "text": [
      "Enter initial conditions:\n",
      "x0 = 0\n",
      "y0 = 1\n",
      "Enter calculation point: \n",
      "xn = 4\n",
      "Enter number of steps:\n",
      "Number of steps = 3\n",
      "\n",
      "-----------SOLUTION-----------\n",
      "------------------------------\n",
      "x0\ty0\tslope\tyn\n",
      "------------------------------\n",
      "0.0000\t1.0000\t1.0000\t2.3333\n",
      "------------------------------\n",
      "1.3333\t2.3333\t3.6667\t7.2222\n",
      "------------------------------\n",
      "2.6667\t7.2222\t9.8889\t20.4074\n",
      "------------------------------\n",
      "\n",
      "At x=4.0000, y=20.4074\n"
     ]
    }
   ],
   "source": [
    "### Based on https://www.codesansar.com/numerical-methods/eulers-method-python-program.htm\n",
    "\n",
    "# function to be solved\n",
    "def f(x,y):\n",
    "    return x+y\n",
    "\n",
    "# or\n",
    "# f = lambda x: x+y\n",
    "\n",
    "# Euler method\n",
    "def euler(x0,y0,xn,n):\n",
    "    \n",
    "    # Calculating step size\n",
    "    h = (xn-x0)/n\n",
    "    \n",
    "    print('\\n-----------SOLUTION-----------')\n",
    "    print('------------------------------')    \n",
    "    print('x0\\ty0\\tslope\\tyn')\n",
    "    print('------------------------------')\n",
    "    for i in range(n):\n",
    "        slope = f(x0, y0)\n",
    "        yn = y0 + h * slope\n",
    "        print('%.4f\\t%.4f\\t%0.4f\\t%.4f'% (x0,y0,slope,yn) )\n",
    "        print('------------------------------')\n",
    "        y0 = yn\n",
    "        x0 = x0+h\n",
    "    \n",
    "    print('\\nAt x=%.4f, y=%.4f' %(xn,yn))\n",
    "\n",
    "# Inputs\n",
    "print('Enter initial conditions:')\n",
    "x0 = float(input('x0 = '))\n",
    "y0 = float(input('y0 = '))\n",
    "\n",
    "print('Enter calculation point: ')\n",
    "xn = float(input('xn = '))\n",
    "\n",
    "print('Enter number of steps:')\n",
    "step = int(input('Number of steps = '))\n",
    "\n",
    "# Euler method call\n",
    "euler(x0,y0,xn,step)\n"
   ]
  },
  {
   "cell_type": "code",
   "execution_count": null,
   "id": "6070c80b",
   "metadata": {},
   "outputs": [],
   "source": []
  }
 ],
 "metadata": {
  "kernelspec": {
   "display_name": "Python 3 (ipykernel)",
   "language": "python",
   "name": "python3"
  },
  "language_info": {
   "codemirror_mode": {
    "name": "ipython",
    "version": 3
   },
   "file_extension": ".py",
   "mimetype": "text/x-python",
   "name": "python",
   "nbconvert_exporter": "python",
   "pygments_lexer": "ipython3",
   "version": "3.10.8"
  }
 },
 "nbformat": 4,
 "nbformat_minor": 5
}
